{
 "cells": [
  {
   "cell_type": "code",
   "execution_count": 5,
   "metadata": {
    "id": "Oa0Y2Sc4JabV"
   },
   "outputs": [],
   "source": [
    "!pip install -q snscrape\n",
    "\n",
    "    "
   ]
  },
  {
   "cell_type": "code",
   "execution_count": 1,
   "metadata": {
    "id": "dwXCBVE-6W1v"
   },
   "outputs": [],
   "source": [
    "import os\n",
    "import pandas as pd\n",
    "from datetime import date "
   ]
  },
  {
   "cell_type": "code",
   "execution_count": 2,
   "metadata": {
    "colab": {
     "base_uri": "https://localhost:8080/"
    },
    "id": "3OhpPzXx6m4u",
    "outputId": "b2c134d3-2474-4142-f805-5e0b9c71092b"
   },
   "outputs": [
    {
     "name": "stdout",
     "output_type": "stream",
     "text": [
      "2022-05-20\n"
     ]
    }
   ],
   "source": [
    "today =date.today()\n",
    "end_date = today \n",
    "print(end_date)\n"
   ]
  },
  {
   "cell_type": "code",
   "execution_count": 3,
   "metadata": {
    "id": "vPz3uGWCC_Y0"
   },
   "outputs": [],
   "source": [
    "search_term =(\"farmer protest\",\"farmer\",\"protest\")\n",
    "from_date= \"2021-01-01\"\n",
    "end_date = \"2021-08-01\""
   ]
  },
  {
   "cell_type": "code",
   "execution_count": 6,
   "metadata": {
    "colab": {
     "base_uri": "https://localhost:8080/"
    },
    "id": "54xRyOiKDvH2",
    "outputId": "91f14e7b-4d1f-4616-b4ed-2365749487be"
   },
   "outputs": [
    {
     "name": "stdout",
     "output_type": "stream",
     "text": [
      "Number Of Tweets : 0\n"
     ]
    }
   ],
   "source": [
    "os.system(f\"snscrape --since {from_date} twitter-search '{search_term} until:{end_date}' > result-tweets.txt\")\n",
    "if os.stat(\"result-tweets.txt\").st_size == 0:\n",
    "  counter = 0\n",
    "else:\n",
    "  df = pd.read_csv('result-tweets.txt', names=['link'])\n",
    "  counter = df.size\n",
    "\n",
    "print('Number Of Tweets : '+ str(counter))"
   ]
  },
  {
   "cell_type": "code",
   "execution_count": null,
   "metadata": {
    "id": "P7JJc_FlrFaj"
   },
   "outputs": [],
   "source": [
    "extracted_tweets = \"snscrape --format '{content!r}'\"+ f\" --max-results {max_results} --since {from_date} twitter-search '{search_term} until:{end_date}' > extracted-tweets.txt\"\n",
    "os.system(extracted_tweets)\n",
    "if os.stat(\"extracted-tweets.txt\").st_size == 0:\n",
    "  print('No Tweets found')\n",
    "else:\n",
    "  df = pd.read_csv('extracted-tweets.txt', names=['content'])\n",
    "  for row in df['content'].iteritems():\n",
    "    print(row)"
   ]
  }
 ],
 "metadata": {
  "colab": {
   "name": "Untitled1.ipynb",
   "provenance": []
  },
  "kernelspec": {
   "display_name": "Python 3",
   "language": "python",
   "name": "python3"
  },
  "language_info": {
   "codemirror_mode": {
    "name": "ipython",
    "version": 3
   },
   "file_extension": ".py",
   "mimetype": "text/x-python",
   "name": "python",
   "nbconvert_exporter": "python",
   "pygments_lexer": "ipython3",
   "version": "3.8.3"
  }
 },
 "nbformat": 4,
 "nbformat_minor": 1
}
